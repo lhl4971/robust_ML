{
  "cells": [
    {
      "cell_type": "markdown",
      "id": "a47a5e2b",
      "metadata": {
        "id": "a47a5e2b"
      },
      "source": [
        "## Задание. Создать нейронную сеть со следующей структурой\n",
        "\n",
        "\n",
        "Network( <br/>\n",
        "    (hidden): Linear(in_features=784, out_features=256, bias=True) <br/>\n",
        "    (output): Linear(in_features=256, out_features=10, bias=True) <br/>\n",
        "    (sigmoid): Sigmoid() <br/>\n",
        "    (softmax): Softmax(dim=1) <br/>\n",
        ")\n"
      ]
    },
    {
      "cell_type": "markdown",
      "id": "cfb13e52",
      "metadata": {
        "id": "cfb13e52"
      },
      "source": [
        "Подключить необходимые библиотеки: torch, numpy и matplotlib.pyplot:"
      ]
    },
    {
      "cell_type": "code",
      "execution_count": 21,
      "id": "1fe880cb",
      "metadata": {
        "id": "1fe880cb"
      },
      "outputs": [],
      "source": [
        " ## WRITE YOUR CODE HERE\n",
        "import torch\n",
        "import torch.nn as nn\n",
        "import numpy as np\n",
        "import matplotlib.pyplot as plt"
      ]
    },
    {
      "cell_type": "markdown",
      "id": "3f54332d",
      "metadata": {
        "id": "3f54332d"
      },
      "source": [
        "Создать класс и описать в нём необходимую нам структуру:"
      ]
    },
    {
      "cell_type": "code",
      "execution_count": 2,
      "id": "21ce9274",
      "metadata": {
        "id": "21ce9274"
      },
      "outputs": [],
      "source": [
        " ## WRITE YOUR CODE HERE\n",
        "class Net(nn.Module):\n",
        "    def __init__(self):\n",
        "        super().__init__()\n",
        "        self.fc1 = nn.Linear(in_features=784, out_features=256)\n",
        "        self.fc2 = nn.Linear(in_features=256, out_features=10)\n",
        "        self.sigmoid = nn.Sigmoid()\n",
        "        self.softmax = nn.Softmax(dim=1)\n",
        "    \n",
        "    def forward(self, x):\n",
        "        x = self.fc1(x)\n",
        "        x = self.fc2(x)\n",
        "        x = self.sigmoid(x)\n",
        "        x = self.softmax(x)\n",
        "        return x\n"
      ]
    },
    {
      "cell_type": "markdown",
      "id": "08071e94",
      "metadata": {
        "id": "08071e94"
      },
      "source": [
        "Создадим экземпляр класса и выведем его на печать, чтобы проверить, что наша архитектура совпадает с заданной:"
      ]
    },
    {
      "cell_type": "code",
      "execution_count": 3,
      "id": "cb72407a",
      "metadata": {
        "id": "cb72407a",
        "outputId": "c26937ea-56ba-497d-a760-79b8a6660a00"
      },
      "outputs": [
        {
          "name": "stdout",
          "output_type": "stream",
          "text": [
            "Net(\n",
            "  (fc1): Linear(in_features=784, out_features=256, bias=True)\n",
            "  (fc2): Linear(in_features=256, out_features=10, bias=True)\n",
            "  (sigmoid): Sigmoid()\n",
            "  (softmax): Softmax(dim=1)\n",
            ")\n"
          ]
        }
      ],
      "source": [
        " ## WRITE YOUR CODE HERE\n",
        "model = Net()\n",
        "print(model)"
      ]
    },
    {
      "cell_type": "markdown",
      "id": "1257b2ec",
      "metadata": {
        "id": "1257b2ec"
      },
      "source": [
        "Будем использовать набор данных MNIST. Применим трансформации перевода в тензор и нормализации с параметрами (0.5):"
      ]
    },
    {
      "cell_type": "code",
      "execution_count": 4,
      "id": "45e51e57",
      "metadata": {
        "id": "45e51e57"
      },
      "outputs": [],
      "source": [
        "from torchvision import datasets, transforms\n",
        "\n",
        "# Define a transform to normalize the data\n",
        "transform = transforms.Compose(\n",
        "    [\n",
        "        transforms.ToTensor(),\n",
        "        transforms.Normalize((0.5,), (0.5,))\n",
        "    ]\n",
        ")\n",
        "\n",
        "# Download and load the training data\n",
        "trainset = datasets.MNIST('~/.pytorch/MNIST_data/', download=True, train=True, transform=transform)\n",
        "trainloader = torch.utils.data.DataLoader(trainset, batch_size=64, shuffle=True)"
      ]
    },
    {
      "cell_type": "markdown",
      "id": "b872779d",
      "metadata": {
        "id": "b872779d"
      },
      "source": [
        "Зададим функцию view_classify для более удобного вывода результатов на экран:"
      ]
    },
    {
      "cell_type": "code",
      "execution_count": 5,
      "id": "1deb1275",
      "metadata": {
        "id": "1deb1275"
      },
      "outputs": [],
      "source": [
        "def view_classify(img, ps, version=\"MNIST\"):\n",
        "    '''\n",
        "    Function for viewing an image and it's predicted classes.\n",
        "    '''\n",
        "    ps = ps.data.numpy().squeeze()\n",
        "\n",
        "    fig, (ax1, ax2) = plt.subplots(figsize=(6,9), ncols=2)\n",
        "    ax1.imshow(img.resize_(1, 28, 28).numpy().squeeze())\n",
        "    ax1.axis('off')\n",
        "    ax2.barh(np.arange(10), ps)\n",
        "    ax2.set_aspect(0.1)\n",
        "    ax2.set_yticks(np.arange(10))\n",
        "    ax2.set_yticklabels(np.arange(10))\n",
        "    ax2.set_title('Class Probability')\n",
        "    ax2.set_xlim(0, 1.1)\n",
        "\n",
        "    plt.tight_layout()"
      ]
    },
    {
      "cell_type": "markdown",
      "id": "077160df",
      "metadata": {
        "id": "077160df"
      },
      "source": [
        "Будем итерироваться по тренировочному множеству и выведем результат работы нейронной сети на экран:"
      ]
    },
    {
      "cell_type": "code",
      "execution_count": 6,
      "id": "58c4ab17",
      "metadata": {
        "id": "58c4ab17",
        "outputId": "05a1bdb3-e68a-43b2-e037-837790a8c4c9"
      },
      "outputs": [
        {
          "data": {
            "image/png": "[encoded data removed]",
            "text/plain": [
              "<Figure size 600x900 with 2 Axes>"
            ]
          },
          "metadata": {},
          "output_type": "display_data"
        }
      ],
      "source": [
        "# Grab some data\n",
        "## WRITE YOUR CODE HERE\n",
        "for batch in trainloader:\n",
        "    images = batch[0]\n",
        "    break\n",
        "\n",
        "# Resize images into a 1D vector, new shape is (batch size, color channels, image pixels)\n",
        "images.resize_(64, 1, 784)\n",
        "# or images.resize_(images.shape[0], 1, 784) to automatically get batch size\n",
        "\n",
        "# Forward pass through the network\n",
        "img_idx = 0\n",
        "ps = model.forward(images[img_idx,:])\n",
        "\n",
        "img = images[img_idx]\n",
        "view_classify(img.view(1, 28, 28), ps)"
      ]
    },
    {
      "cell_type": "markdown",
      "id": "d1e3bed5",
      "metadata": {
        "id": "d1e3bed5"
      },
      "source": [
        "Вопрос: почему получилось такое распределение вероятностей предсказаний классов?\n",
        "\n",
        "Ответ: веса в этой нейронной сети задавались случайным образом, то есть сеть никак не обучалась."
      ]
    },
    {
      "cell_type": "markdown",
      "id": "77c8b9d1",
      "metadata": {
        "id": "77c8b9d1"
      },
      "source": [
        "## Обучение нейронной сети"
      ]
    },
    {
      "cell_type": "markdown",
      "id": "f793060f",
      "metadata": {
        "id": "f793060f"
      },
      "source": [
        "Суть обучения нейронной сети заключается в подборе (посредством постепенного изменения) весов и bias-векторов (параметров сети) таким образом, чтобы разница между выходом нейронной сети и целевым значением была минимальна.\n",
        "\n",
        "Для этого строится **функция потерь (Loss function)** - функция, которая оценивает <<расстояние>> между значением, которое получилось на выходе нейронной сети (Prediction), и заранее заданным значением (Labels).\n",
        "\n",
        "Чтобы минимизировать функцию потерь, используется метод обратного распространения ошибки (Backpropagation), суть которого заключается в нахождении минимума функции потерь через вычисление её градиента, который в свою очередь зависит только от входных данных (поэтому обратное распространение).\n",
        "\n",
        "Метод обратного распространения ошибки включает в себя следующие шаги:\n",
        "* Forward Pass (FP) — прямое распространение сигнала от входа к выходам (без которого не получить вычисленные значения в графе);\n",
        "* Backward Pass (BP) — расчёт величины градиента от выхода ко входам;\n",
        "* обновление весов в зависимости от величины градиента (скорость обучения или learning rate).\n",
        "\n",
        "<img src= https://www.researchgate.net/publication/341817070/figure/fig3/AS:897824409526282@1591069428935/Schematic-of-backpropagation-In-the-forward-pass-of-a-simple-neural-network-an-input.ppm>\n",
        "\n",
        "Существует несколько реализаций метода обратного распространения ошибки:\n",
        "- стохастического градиентного спуска (Stochastic Gradient Descent, SGD);\n",
        "- пакетного градиентного спуска (Mini-Bath Gradient Descent, MBGD)."
      ]
    },
    {
      "cell_type": "markdown",
      "id": "5ca4d40c",
      "metadata": {
        "id": "5ca4d40c"
      },
      "source": [
        "Итого, один цикл обучения включает:\n",
        "- загрузку данных (Features);\n",
        "- один проход данных сквозь нейронную сеть (Neural Network);\n",
        "- получение предсказаний нейронной сети (Prediction);\n",
        "- выгрузка значений, которые соответствуют данным (Labels);\n",
        "- построение функции потерь (Loss) от двух параметров Prediction и Loss;\n",
        "- применение метода обратного распространения ошибки (Backpropagation).\n",
        "\n",
        "<img src=https://galaxyinferno.com/wp-content/uploads/2021/08/Slide3.jpg>"
      ]
    },
    {
      "cell_type": "markdown",
      "id": "29e83149",
      "metadata": {
        "id": "29e83149"
      },
      "source": [
        "Например, внутри одной эпохи обучения двухслойной неронной сети необходимо выполнять следующие действия:\n",
        "- предобработать данные;\n",
        "- умножить их на веса;\n",
        "- применить функцию активации;\n",
        "- снова умножить на веса;\n",
        "- вычислить значение функции потерь;\n",
        "- вычислить градиент функции потерь по весам;\n",
        "- обновить веса;\n",
        "- оценить точность."
      ]
    },
    {
      "cell_type": "markdown",
      "id": "a174b2ab",
      "metadata": {
        "id": "a174b2ab"
      },
      "source": [
        "Нейронная сеть в процессе **обучения** последовательно обрабатывает все объекты из обучающей выборки.\n",
        "Предъявление нейронной сети всех объектов обучающей выборки по одному разу называется **эпохой обучения**.\n",
        "\n",
        "Обучающую выборку разделяют на две части: непосредственно использующуюся для обучения (train data) и тестовую (test data) или валидационную (validation data). На тестовых данных каждую эпоху происходит оценка качества обучения. Стратегия разделения на train и test/validation подвыборки может быть произвольной, но при разделении следует заботиться о том, чтобы эти подвыборки были \"похожи\"."
      ]
    },
    {
      "cell_type": "markdown",
      "id": "8af3a29c",
      "metadata": {
        "id": "8af3a29c"
      },
      "source": [
        "Обучение модели — итеративный процесс. На каждой итерции модель получает входные данные, дает предсказание на выходе, вычисляет значение функции потерь (loss), вычисляет производные функции потерь по параметрам и подстраивает параметры, используя градиентный спуск. Для более детального рассмотрения этого процесса рекомендуем посмотреть [видео об обратном распространении ошибки от 3Blue1Brown](https://www.youtube.com/watch?v=tIeHLnjs5U8).\n",
        "\n",
        "[Плейлист с видео о нейронных сетях от 3Blue1Brown с озвучкой на русском](https://www.youtube.com/playlist?list=PLfdZ2TeaMzfzlpZ60rbaYU_epH5XPNbWU)."
      ]
    },
    {
      "cell_type": "markdown",
      "id": "6ff49c86",
      "metadata": {
        "id": "6ff49c86"
      },
      "source": [
        "## Гиперпараметры\n",
        "\n",
        "Гиперпараметры — это задаваемые разработчиком параметры, которые позволяют управлять процессом обучения. Различные значения гиперпараметров могут влиять на обучение модели и скорость сходимости ([здесь](https://pytorch.org/tutorials/beginner/hyperparameter_tuning_tutorial.html) можно почитать подробнее про подбор гиперпараметров).\n",
        "\n",
        "Определим следующие гиперпараметры процедуры обучения:\n",
        "* **количество эпох** (`num_epochs`) — количество итераций обучения по всему набору данных;\n",
        "* **размер батча** (`batch_size`) — количество образцов, передаваемых в сеть для обновления параметров;\n",
        "* **скорость обучения** (`learning_rate`) — коэффициент, определяющий, насколько сильно нужно обновлять параметры модели на каждом батче. Малые значения приводят к долгому обучению, в то время как большие значения могут приводить к непредсказуемому поведению во время обучения."
      ]
    },
    {
      "cell_type": "code",
      "execution_count": 7,
      "id": "9b556161",
      "metadata": {
        "id": "9b556161"
      },
      "outputs": [],
      "source": [
        "num_epochs = 10\n",
        "batch_size = 64\n",
        "learning_rate = 1e-3"
      ]
    },
    {
      "cell_type": "markdown",
      "id": "5f660b8f",
      "metadata": {
        "id": "5f660b8f"
      },
      "source": [
        "## Функция потерь (Loss function)\n",
        "\n",
        "При получении некоторых обучающих данных наша необученная сеть, скорее всего, не даст правильного ответа. Функция потерь измеряет степень различия между значениями на выходе сети и целевыми значениями. Именно функцию потерь мы и хотим минимизировать во время обучения. Для вычисления функции потерь нужно получить предсказание модели, передав ей на вход пример из данных, и сравнить его с истинным значением целевой переменной.\n",
        "\n",
        "Наиболее часто применяемыми функциями потерь являются [`nn.MSELoss`](https://pytorch.org/docs/stable/generated/torch.nn.MSELoss.html#torch.nn.MSELoss) (Mean Square Error) для задач регрессии и [`nn.CrossEntropyLoss`](https://pytorch.org/docs/stable/generated/torch.nn.CrossEntropyLoss.html#torch.nn.CrossEntropyLoss) для задач класиификации.\n",
        "\n",
        "\n",
        "Мы будем передавать выходы модели (логиты) в `nn.CrossEntropyLoss`, которая будет их нормализовывать и вычислять ошибку предсказания."
      ]
    },
    {
      "cell_type": "code",
      "execution_count": 8,
      "id": "503bde7f",
      "metadata": {
        "id": "503bde7f"
      },
      "outputs": [],
      "source": [
        "criterion = nn.CrossEntropyLoss()"
      ]
    },
    {
      "cell_type": "markdown",
      "id": "b9b54dd6",
      "metadata": {
        "id": "b9b54dd6"
      },
      "source": [
        "## Оптимизатор (Optimizer)\n",
        "\n",
        "Оптимизация — это процесс подстройки параметров модели для уменьшения ошибки на каждом шаге обучения. От **алгоритма оптимизации** зависит то, как этот процесс будет выполняться. Здесь мы будем использовать стохастический градиентный спуск (Stochastic Gradient Descent, SGD). Однако в PyTorch реализовано еще [множество других алгоритмов оптимизации](https://pytorch.org/docs/stable/optim.html#algorithms), таких как Adam и RMSProp, и они могут работать лучше или хуже для разных видов моделей и данных.\n",
        "\n",
        "Вся логика оптимизации заключена в объекте `optimizer`. Мы инициализируем оптимизатор, передавая ему параметры модели, которые требуется обучать (`model.parameters()`), а также гиперпараметр скорости обучения (`learning_rate`)."
      ]
    },
    {
      "cell_type": "code",
      "execution_count": 9,
      "id": "edaf2599",
      "metadata": {
        "id": "edaf2599"
      },
      "outputs": [],
      "source": [
        "optimizer = torch.optim.SGD(model.parameters(), lr=learning_rate)"
      ]
    },
    {
      "cell_type": "markdown",
      "id": "e863843a",
      "metadata": {
        "id": "e863843a"
      },
      "source": [
        "## Цикл обучения\n",
        "\n",
        "Внутри цикла обучения, оптимизация производится за три шага:\n",
        "1. Вызов `optimizer.zero_grad()`, чтобы сбросить градиенты параметров модели. По умолчанию градиенты суммируются, и во избежание повторного вычисления их необходимо явно обнулять на каждой итерации;\n",
        "2. Обратное распространение ошибки предсказания с помощью вызова `loss.backward()`. PyTorch вычислит градиенты функции потерь относительно каждого обучаемого параметра;\n",
        "3. Когда у нас есть градиенты, мы вызываем `optimizer.step()`, чтобы подстроить обучаемые параметры с учетом градиентов, посчитанных при обратном распространении, согласно алгоритму оптимизации.\n",
        "\n",
        "Итого, в цикле обучения в следующем порядке должны идти строчки:  <br>\n",
        "optimizer.zero_grad() <br>\n",
        "loss.backward()  <br>\n",
        "optimizer.step()  <br>"
      ]
    },
    {
      "cell_type": "markdown",
      "id": "1496ad93",
      "metadata": {
        "id": "1496ad93"
      },
      "source": [
        "Наиболее просто полный процесс обучения нейронной сети может быть представлен следующим кодом:"
      ]
    },
    {
      "cell_type": "code",
      "execution_count": null,
      "id": "62544b17",
      "metadata": {
        "id": "62544b17",
        "outputId": "9b166f12-b3b3-449c-c5a1-8a210b5161d5"
      },
      "outputs": [
        {
          "name": "stdout",
          "output_type": "stream",
          "text": [
            "Training loss: 1.8578703089563577\n",
            "Training loss: 0.8279070729004548\n",
            "Training loss: 0.5197338034222121\n",
            "Training loss: 0.4257973219031718\n"
          ]
        }
      ],
      "source": [
        "from torch import optim\n",
        "\n",
        "model = nn.Sequential(nn.Linear(784, 128),\n",
        "                      nn.ReLU(),\n",
        "                      nn.Linear(128, 64),\n",
        "                      nn.ReLU(),\n",
        "                      nn.Linear(64, 10),\n",
        "                      nn.LogSoftmax(dim=1))\n",
        "\n",
        "\n",
        "num_epochs = 5\n",
        "learning_rate = 0.003\n",
        "\n",
        "criterion = nn.NLLLoss()\n",
        "\n",
        "optimizer = optim.SGD(model.parameters(), lr=learning_rate)\n",
        "\n",
        "for e in range(num_epochs):\n",
        "    running_loss = 0\n",
        "    for images, labels in trainloader:\n",
        "        # Flatten MNIST images into a 784 long vector\n",
        "        images = images.view(images.shape[0], -1)\n",
        "\n",
        "        # Training pass\n",
        "        output = model(images)\n",
        "        loss = criterion(output, labels)\n",
        "\n",
        "        optimizer.zero_grad()\n",
        "        loss.backward()\n",
        "        optimizer.step()\n",
        "\n",
        "        running_loss += loss.item()\n",
        "    else:\n",
        "        print(f\"Training loss: {running_loss/len(trainloader)}\")"
      ]
    },
    {
      "cell_type": "markdown",
      "id": "4cfd2ba2",
      "metadata": {
        "id": "4cfd2ba2"
      },
      "source": [
        "Посмотрим на вероятности предсказанных классов после обучения нейронной сети:"
      ]
    },
    {
      "cell_type": "code",
      "execution_count": 57,
      "id": "f2b0aca3",
      "metadata": {
        "id": "f2b0aca3",
        "outputId": "87d5266e-8827-424a-87ff-058de4d72bf8"
      },
      "outputs": [
        {
          "data": {
            "image/png": "[encoded data removed]",
            "text/plain": [
              "<Figure size 600x900 with 2 Axes>"
            ]
          },
          "metadata": {},
          "output_type": "display_data"
        }
      ],
      "source": [
        "%matplotlib inline\n",
        "\n",
        "images, labels = next(iter(trainloader))\n",
        "\n",
        "img = images[0].view(1, 784)\n",
        "# Turn off gradients to speed up this part\n",
        "with torch.no_grad():\n",
        "    logps = model(img)\n",
        "\n",
        "# Output of the network are log-probabilities, need to take exponential for probabilities\n",
        "ps = torch.exp(logps)\n",
        "view_classify(img.view(1, 28, 28), ps)"
      ]
    },
    {
      "cell_type": "markdown",
      "id": "357a91c1",
      "metadata": {
        "id": "357a91c1"
      },
      "source": [
        "Видим, что нейронная сеть уже научилась распознавать цифры с достаточно большой вероятностью."
      ]
    },
    {
      "cell_type": "markdown",
      "id": "779193bf",
      "metadata": {
        "id": "779193bf"
      },
      "source": [
        "# Пример нейронной сети для решения задачи классификации на наборе данных MNIST"
      ]
    },
    {
      "cell_type": "markdown",
      "id": "fd043c8c",
      "metadata": {
        "id": "fd043c8c"
      },
      "source": [
        "Шаг 1. Подгружаем необходимые библиотеки:"
      ]
    },
    {
      "cell_type": "code",
      "execution_count": 87,
      "id": "3cf340cd",
      "metadata": {
        "id": "3cf340cd"
      },
      "outputs": [],
      "source": [
        "import torch\n",
        "from torchvision import datasets\n",
        "from torchvision.transforms import ToTensor\n",
        "from IPython.display import clear_output\n",
        "from torch.utils.data import DataLoader"
      ]
    },
    {
      "cell_type": "markdown",
      "id": "131f23bc",
      "metadata": {
        "id": "131f23bc"
      },
      "source": [
        "Шаг 2. Выбираем гиперпараметры для нейронной сети:"
      ]
    },
    {
      "cell_type": "code",
      "execution_count": 88,
      "id": "dab9514d",
      "metadata": {
        "id": "dab9514d"
      },
      "outputs": [],
      "source": [
        "num_epochs = 10\n",
        "batch_size = 64\n",
        "learning_rate = 1e-3"
      ]
    },
    {
      "cell_type": "markdown",
      "id": "fd7bb6b5",
      "metadata": {
        "id": "fd7bb6b5"
      },
      "source": [
        "Шаг 3. Загружаем набор данных MNIST:"
      ]
    },
    {
      "cell_type": "code",
      "execution_count": 89,
      "id": "3ab3ea60",
      "metadata": {
        "id": "3ab3ea60"
      },
      "outputs": [],
      "source": [
        " ## WRITE YOUR CODE HERE\n",
        "train_data = datasets.MNIST('~/.pytorch/MNIST_data/', download=True, train=True, transform=ToTensor())\n",
        "train_dataloader = DataLoader(train_data, batch_size=batch_size, shuffle=True)\n",
        "test_data = datasets.MNIST('~/.pytorch/MNIST_data/', download=True, train=False, transform=ToTensor())\n",
        "test_dataloader = DataLoader(test_data, batch_size=batch_size, shuffle=True)"
      ]
    },
    {
      "cell_type": "markdown",
      "id": "e578567f",
      "metadata": {
        "id": "e578567f"
      },
      "source": [
        "Шаг 4. Посмотрим на основные параметры данных:"
      ]
    },
    {
      "cell_type": "code",
      "execution_count": 90,
      "id": "c1432389",
      "metadata": {
        "id": "c1432389",
        "outputId": "f444d39d-cdc6-4b31-e724-a50234302a5c"
      },
      "outputs": [
        {
          "name": "stdout",
          "output_type": "stream",
          "text": [
            "train_data.data:\n",
            "Type:  <class 'torch.Tensor'>\n",
            "Size:  torch.Size([60000, 28, 28])\n",
            "Dtype: torch.uint8\n",
            "Max:   tensor(255, dtype=torch.uint8)\n",
            "Min:   tensor(0, dtype=torch.uint8)\n"
          ]
        }
      ],
      "source": [
        "print(\"train_data.data:\")\n",
        "print(\"Type: \",  type(train_data.data))\n",
        "print(\"Size: \",  train_data.data.shape)\n",
        "print(\"Dtype:\",  train_data.data.dtype)\n",
        "print(\"Max:  \",  train_data.data.max())\n",
        "print(\"Min:  \",  train_data.data.min())"
      ]
    },
    {
      "cell_type": "markdown",
      "id": "08bcf90d",
      "metadata": {
        "id": "08bcf90d"
      },
      "source": [
        "Шаг 5. Посмотрим на матожидание и дисперсию:"
      ]
    },
    {
      "cell_type": "code",
      "execution_count": 91,
      "id": "d027fe56",
      "metadata": {
        "id": "d027fe56",
        "outputId": "9195e525-4ff4-4ac2-d409-8d1a1acef626"
      },
      "outputs": [
        {
          "name": "stdout",
          "output_type": "stream",
          "text": [
            "mean = 33.32, std = 78.57\n"
          ]
        }
      ],
      "source": [
        "mean =  train_data.data.float().mean()\n",
        "std =  train_data.data.float().std()\n",
        "print(f\"mean = {mean:.2f}, std = {std:.2f}\")"
      ]
    },
    {
      "cell_type": "markdown",
      "id": "2630de30",
      "metadata": {
        "id": "2630de30"
      },
      "source": [
        "Шаг 6. Нормализуем значения, чтобы они попали в диапазон $[0;1]$:"
      ]
    },
    {
      "cell_type": "code",
      "execution_count": 92,
      "id": "ecc14a07",
      "metadata": {
        "id": "ecc14a07",
        "outputId": "930f5905-2316-4366-a40f-7269bf85258a"
      },
      "outputs": [
        {
          "name": "stdout",
          "output_type": "stream",
          "text": [
            "Scaled mean = 0.13, std = 0.31\n"
          ]
        }
      ],
      "source": [
        " ## WRITE YOUR CODE HERE\n",
        "max = train_data.data.float().max()\n",
        "min = train_data.data.float().min()\n",
        "normalized_data = (train_data.data.float() - min) / (max - min) + min\n",
        "\n",
        "mean =  normalized_data.mean()\n",
        "std =  normalized_data.std()\n",
        "print(f\"Scaled mean = {mean:.2f}, std = {std:.2f}\")"
      ]
    },
    {
      "cell_type": "markdown",
      "id": "a98b90c1",
      "metadata": {
        "id": "a98b90c1"
      },
      "source": [
        "Шаг 7. Мы вычислили среднее и стандартное отклонение по обучающей выборке MNIST для применения транcформации Normalize. Но мы также помним, что она должна применяться только после ToTensor:"
      ]
    },
    {
      "cell_type": "code",
      "execution_count": 93,
      "id": "8e28b4d4",
      "metadata": {
        "id": "8e28b4d4",
        "outputId": "8864ca6c-ae9f-48b5-95cc-3f8fccbf98d4"
      },
      "outputs": [
        {
          "name": "stdout",
          "output_type": "stream",
          "text": [
            "Compose(\n",
            "    ToTensor()\n",
            "    Normalize(mean=0.13066047430038452, std=0.30810782313346863)\n",
            ")\n"
          ]
        }
      ],
      "source": [
        "from torchvision import transforms\n",
        "\n",
        "transform_with_normalize =  transforms.Compose(\n",
        "    [\n",
        "        transforms.ToTensor(),\n",
        "        transforms.Normalize(mean=mean, std=std)\n",
        "    ]\n",
        ")\n",
        "\n",
        "print(transform_with_normalize)"
      ]
    },
    {
      "cell_type": "markdown",
      "id": "20ce2bba",
      "metadata": {
        "id": "20ce2bba"
      },
      "source": [
        "Шаг 8. Заменим тренировочные и тестовые данные на новые с применённой трансфоормацией:"
      ]
    },
    {
      "cell_type": "code",
      "execution_count": 94,
      "id": "aa2152b7",
      "metadata": {
        "id": "aa2152b7",
        "outputId": "38ecb61d-459b-455d-b5dd-84c852da94a1"
      },
      "outputs": [
        {
          "name": "stdout",
          "output_type": "stream",
          "text": [
            "Old train transform: ToTensor()\n",
            "Old test transform: ToTensor()\n",
            "\n",
            "New train transform: Compose(\n",
            "    ToTensor()\n",
            "    Normalize(mean=0.13066047430038452, std=0.30810782313346863)\n",
            ")\n",
            "New test transform: Compose(\n",
            "    ToTensor()\n",
            "    Normalize(mean=0.13066047430038452, std=0.30810782313346863)\n",
            ")\n"
          ]
        }
      ],
      "source": [
        "print(\"Old train transform:\", train_data.transform)\n",
        "print(\"Old test transform:\", test_data.transform)\n",
        "\n",
        "train_data.transform =  transform_with_normalize\n",
        "test_data.transform =  transform_with_normalize\n",
        "\n",
        "print(\"\\nNew train transform:\", train_data.transform)\n",
        "print(\"New test transform:\", test_data.transform)"
      ]
    },
    {
      "cell_type": "markdown",
      "id": "a06b1b3c",
      "metadata": {
        "id": "a06b1b3c"
      },
      "source": [
        "Шаг 9. Выбираем устройство для обучения:"
      ]
    },
    {
      "cell_type": "code",
      "execution_count": 95,
      "id": "2ca999ee",
      "metadata": {
        "id": "2ca999ee",
        "outputId": "3e10ab12-2882-48b6-907e-9a9b472ccc2a"
      },
      "outputs": [
        {
          "name": "stdout",
          "output_type": "stream",
          "text": [
            "Using cuda device\n"
          ]
        }
      ],
      "source": [
        "device = \"cuda\" if torch.cuda.is_available() else \"cpu\"\n",
        "print(f\"Using {device} device\")"
      ]
    },
    {
      "cell_type": "markdown",
      "id": "72b021dd",
      "metadata": {
        "id": "72b021dd"
      },
      "source": [
        "Шаг 10. Задаём архитектуру нейронной сети:"
      ]
    },
    {
      "cell_type": "code",
      "execution_count": 96,
      "id": "010c904c",
      "metadata": {
        "id": "010c904c"
      },
      "outputs": [],
      "source": [
        "from torch import nn\n",
        "\n",
        "\n",
        "class NeuralNetwork(nn.Module):\n",
        "    def __init__(self):\n",
        "        super().__init__()\n",
        "        self.flatten = nn.Flatten()\n",
        "        self.layers_stack = nn.Sequential(\n",
        "            nn.Linear(28 * 28, 512),\n",
        "            nn.ReLU(),\n",
        "            nn.Linear(512, 128),\n",
        "            nn.ReLU(),\n",
        "            nn.Linear(128, 10),\n",
        "        )\n",
        "\n",
        "    def forward(self, x):\n",
        "         ## WRITE YOUR CODE HERE\n",
        "        x = self.flatten(x)\n",
        "        logits = self.layers_stack(x)\n",
        "        return logits"
      ]
    },
    {
      "cell_type": "markdown",
      "id": "94529a01",
      "metadata": {
        "id": "94529a01"
      },
      "source": [
        "Шаг 11. Создадим объект класса указанной нейронной сети и выведем его архитектуру:"
      ]
    },
    {
      "cell_type": "code",
      "execution_count": 97,
      "id": "f1d35c42",
      "metadata": {
        "id": "f1d35c42",
        "outputId": "2a32718c-aaf8-42cc-bce6-95ddec446c3e"
      },
      "outputs": [
        {
          "name": "stdout",
          "output_type": "stream",
          "text": [
            "NeuralNetwork(\n",
            "  (flatten): Flatten(start_dim=1, end_dim=-1)\n",
            "  (layers_stack): Sequential(\n",
            "    (0): Linear(in_features=784, out_features=512, bias=True)\n",
            "    (1): ReLU()\n",
            "    (2): Linear(in_features=512, out_features=128, bias=True)\n",
            "    (3): ReLU()\n",
            "    (4): Linear(in_features=128, out_features=10, bias=True)\n",
            "  )\n",
            ")\n"
          ]
        }
      ],
      "source": [
        "## WRITE YOUR CODE HERE\n",
        "model = NeuralNetwork().to(device)\n",
        "print(model)"
      ]
    },
    {
      "cell_type": "markdown",
      "id": "c5ead366",
      "metadata": {
        "id": "c5ead366"
      },
      "source": [
        "Шаг 12. Выберем функцию потерь и оптимизатор:"
      ]
    },
    {
      "cell_type": "code",
      "execution_count": 98,
      "id": "19eb8165",
      "metadata": {
        "id": "19eb8165"
      },
      "outputs": [],
      "source": [
        "## WRITE YOUR CODE HERE\n",
        "criterion = nn.CrossEntropyLoss()\n",
        "## WRITE YOUR CODE HERE\n",
        "optimizer = torch.optim.Adam(model.parameters(), lr=learning_rate, weight_decay=1e-3)"
      ]
    },
    {
      "cell_type": "markdown",
      "id": "9189e8ac",
      "metadata": {
        "id": "9189e8ac"
      },
      "source": [
        "Шаг 13. Зададим функции обучения на тренировочном и тестовом множествах:"
      ]
    },
    {
      "cell_type": "code",
      "execution_count": 99,
      "id": "1a545467",
      "metadata": {
        "id": "1a545467"
      },
      "outputs": [],
      "source": [
        "def train_loop(dataloader, model, criterion, optimizer):\n",
        "    num_batches = len(dataloader)\n",
        "\n",
        "    train_loss = 0\n",
        "\n",
        "    for imgs, labels in dataloader:\n",
        "        # Compute prediction and loss\n",
        "        pred = model(imgs.to(device))\n",
        "        loss = criterion(pred, labels.to(device))\n",
        "\n",
        "        # Optimization\n",
        "        ## WRITE YOUR CODE HERE\n",
        "        optimizer.zero_grad()\n",
        "        loss.backward()\n",
        "        optimizer.step()\n",
        "\n",
        "        train_loss += loss.item()\n",
        "\n",
        "    train_loss /= num_batches\n",
        "    print(f\"Train loss: {train_loss:>8f}\")\n",
        "\n",
        "    return train_loss\n",
        "\n",
        "\n",
        "def test_loop(dataloader, model, criterion):\n",
        "    size = len(dataloader.dataset)\n",
        "    num_batches = len(dataloader)\n",
        "\n",
        "    test_loss, correct = 0, 0\n",
        "\n",
        "    with torch.no_grad():\n",
        "        for imgs, labels in dataloader:\n",
        "            # Compute prediction and loss\n",
        "            pred = model(imgs.to(device))\n",
        "            loss = criterion(pred, labels.to(device))\n",
        "\n",
        "            test_loss += loss.item()\n",
        "            correct += (\n",
        "                (pred.argmax(1) == labels.to(device)).type(torch.float).sum().item()\n",
        "            )\n",
        "\n",
        "    test_loss /= num_batches\n",
        "    correct /= size\n",
        "    print(f\"Test loss: {test_loss:>8f}, test accuracy: {(100*correct):>0.1f}% \\n\")\n",
        "\n",
        "    return test_loss"
      ]
    },
    {
      "cell_type": "markdown",
      "id": "38967d87",
      "metadata": {
        "id": "38967d87"
      },
      "source": [
        "Шаг 14. Запустим процесс обучения:"
      ]
    },
    {
      "cell_type": "code",
      "execution_count": 100,
      "id": "bef4fde9",
      "metadata": {
        "id": "bef4fde9",
        "outputId": "0aec6203-766a-4e05-fcad-48f56aa984c2"
      },
      "outputs": [
        {
          "name": "stdout",
          "output_type": "stream",
          "text": [
            "Epoch 1\n",
            "Train loss: 0.218810\n",
            "Test loss: 0.112049, test accuracy: 96.4% \n",
            "\n",
            "Epoch 2\n",
            "Train loss: 0.109442\n",
            "Test loss: 0.101408, test accuracy: 96.9% \n",
            "\n",
            "Epoch 3\n",
            "Train loss: 0.090076\n",
            "Test loss: 0.103683, test accuracy: 96.7% \n",
            "\n",
            "Epoch 4\n",
            "Train loss: 0.080960\n",
            "Test loss: 0.080806, test accuracy: 97.5% \n",
            "\n",
            "Epoch 5\n",
            "Train loss: 0.072977\n",
            "Test loss: 0.087870, test accuracy: 97.2% \n",
            "\n",
            "Epoch 6\n",
            "Train loss: 0.067329\n",
            "Test loss: 0.086822, test accuracy: 97.3% \n",
            "\n",
            "Epoch 7\n",
            "Train loss: 0.065189\n",
            "Test loss: 0.091531, test accuracy: 97.3% \n",
            "\n",
            "Epoch 8\n",
            "Train loss: 0.058524\n",
            "Test loss: 0.090808, test accuracy: 97.2% \n",
            "\n",
            "Epoch 9\n",
            "Train loss: 0.060238\n",
            "Test loss: 0.096222, test accuracy: 97.1% \n",
            "\n",
            "Epoch 10\n",
            "Train loss: 0.057395\n",
            "Test loss: 0.073680, test accuracy: 97.7% \n",
            "\n",
            "Done!\n"
          ]
        }
      ],
      "source": [
        "# for plotting\n",
        "loss_history = {\"train\": [], \"test\": []}\n",
        "\n",
        "for i in range(num_epochs):\n",
        "    print(f\"Epoch {i+1}\")\n",
        "    train_loss = train_loop(\n",
        "        train_dataloader,\n",
        "        model=model,\n",
        "        criterion=criterion,\n",
        "        optimizer=optimizer\n",
        "        )\n",
        "    test_loss = test_loop(\n",
        "        test_dataloader,\n",
        "        model=model,\n",
        "        criterion=criterion\n",
        "        )\n",
        "\n",
        "    loss_history[\"train\"].append(train_loss)\n",
        "    loss_history[\"test\"].append(test_loss)\n",
        "print(\"Done!\")"
      ]
    },
    {
      "cell_type": "markdown",
      "id": "7aef120a",
      "metadata": {
        "id": "7aef120a"
      },
      "source": [
        "Шаг 15. Построим графики функции потерь на тренировочном и тестовом множествах:"
      ]
    },
    {
      "cell_type": "code",
      "execution_count": 101,
      "id": "d26b061e",
      "metadata": {
        "id": "d26b061e",
        "outputId": "9f9658c3-4ebb-4c84-957a-cfca695dcf40"
      },
      "outputs": [
        {
          "data": {
            "image/png": "[encoded data removed]",
            "text/plain": [
              "<Figure size 1000x500 with 1 Axes>"
            ]
          },
          "metadata": {},
          "output_type": "display_data"
        }
      ],
      "source": [
        "plt.figure(figsize=(10, 5))\n",
        "plt.plot(range(1, num_epochs + 1), loss_history[\"train\"], label=\"train\")\n",
        "plt.plot(range(1, num_epochs + 1), loss_history[\"test\"], label=\"test\")\n",
        "plt.xlabel(\"Epochs\", fontsize=15)\n",
        "plt.ylabel(\"Loss\", fontsize=15)\n",
        "plt.legend()\n",
        "plt.grid()\n",
        "plt.show()"
      ]
    },
    {
      "cell_type": "markdown",
      "id": "0c8b1e22",
      "metadata": {
        "id": "0c8b1e22"
      },
      "source": [
        "## Обработка результатов:"
      ]
    },
    {
      "cell_type": "markdown",
      "id": "c965d914",
      "metadata": {
        "id": "c965d914"
      },
      "source": [
        "Поэтапно пропустим тестовые изображения через модель и посмотрим на размерности:"
      ]
    },
    {
      "cell_type": "code",
      "execution_count": 102,
      "id": "b7312af1",
      "metadata": {
        "id": "b7312af1",
        "outputId": "58bf3070-1be6-4e9c-c848-f9db7f11dec6",
        "scrolled": true
      },
      "outputs": [
        {
          "name": "stdout",
          "output_type": "stream",
          "text": [
            "imgs shape:  torch.Size([64, 1, 28, 28])\n"
          ]
        }
      ],
      "source": [
        "# get batch\n",
        "imgs, labels = next(iter(test_dataloader))\n",
        "print(\"imgs shape: \", imgs.shape)"
      ]
    },
    {
      "cell_type": "code",
      "execution_count": 103,
      "id": "818fcd33",
      "metadata": {
        "id": "818fcd33",
        "outputId": "71f3ecfa-001b-48f3-9a7a-d17bcdcd06ac"
      },
      "outputs": [
        {
          "name": "stdout",
          "output_type": "stream",
          "text": [
            "pred shape:  torch.Size([64, 10])\n"
          ]
        }
      ],
      "source": [
        "# get output\n",
        "pred = model(imgs.to(device))\n",
        "print(\"pred shape: \", pred.shape)"
      ]
    },
    {
      "cell_type": "markdown",
      "id": "ebe82db3",
      "metadata": {
        "id": "ebe82db3"
      },
      "source": [
        "Посмотрим на результаты обработки нейронной сети для выбранного батча:"
      ]
    },
    {
      "cell_type": "code",
      "execution_count": 104,
      "id": "cefd2d29",
      "metadata": {
        "id": "cefd2d29",
        "outputId": "891d95ce-97cb-489c-84f4-f9bff95f063f"
      },
      "outputs": [
        {
          "data": {
            "text/plain": [
              "tensor([ -9.6253,  -5.5377,  -8.3206,   2.9719, -11.1421,  15.5798,  -0.7591,\n",
              "         -7.8744,   1.6017,  -0.8808], device='cuda:0',\n",
              "       grad_fn=<SelectBackward0>)"
            ]
          },
          "execution_count": 104,
          "metadata": {},
          "output_type": "execute_result"
        }
      ],
      "source": [
        "# First sample in prediction batch\n",
        "pred[0]"
      ]
    },
    {
      "cell_type": "markdown",
      "id": "2e9fe30d",
      "metadata": {
        "id": "2e9fe30d"
      },
      "source": [
        "Чтобы посчитать вероятность, применим функццию softmax:"
      ]
    },
    {
      "cell_type": "code",
      "execution_count": 105,
      "id": "4858be52",
      "metadata": {
        "id": "4858be52",
        "outputId": "6f9f719c-1024-4ca2-8a72-af42d8f40e0e"
      },
      "outputs": [
        {
          "data": {
            "text/plain": [
              "tensor([1.1313e-11, 6.7420e-10, 4.1707e-11, 3.3455e-06, 2.4821e-12, 1.0000e+00,\n",
              "        8.0187e-08, 6.5160e-11, 8.4996e-07, 7.0996e-08], device='cuda:0')"
            ]
          },
          "execution_count": 105,
          "metadata": {},
          "output_type": "execute_result"
        }
      ],
      "source": [
        "# Calculate probabilities\n",
        "nn.Softmax(dim=0)(pred[0].detach())"
      ]
    },
    {
      "cell_type": "markdown",
      "id": "13f90cb8",
      "metadata": {
        "id": "13f90cb8"
      },
      "source": [
        "Изменим размерности данных для вывода картинок на экран:"
      ]
    },
    {
      "cell_type": "code",
      "execution_count": 106,
      "id": "cace1765",
      "metadata": {
        "id": "cace1765",
        "outputId": "56c4fa77-0be3-45ed-f8da-17a3c3d2f108"
      },
      "outputs": [
        {
          "name": "stdout",
          "output_type": "stream",
          "text": [
            "imgs shape(after reshape):  torch.Size([64, 28, 28])\n"
          ]
        }
      ],
      "source": [
        "# remove axis\n",
        "imgs = torch.reshape(imgs, (64, 28, 28))\n",
        "print(\"imgs shape(after reshape): \", imgs.shape)"
      ]
    },
    {
      "cell_type": "code",
      "execution_count": 107,
      "id": "2e176f7a",
      "metadata": {
        "id": "2e176f7a",
        "outputId": "a0d631af-9ed4-4bc7-9d58-2d01a112904f"
      },
      "outputs": [
        {
          "name": "stdout",
          "output_type": "stream",
          "text": [
            "imgs shape:  torch.Size([10, 28, 28])\n"
          ]
        }
      ],
      "source": [
        "# take 10 first images\n",
        "imgs = imgs[:10]\n",
        "print(\"imgs shape: \", imgs.shape)"
      ]
    },
    {
      "cell_type": "markdown",
      "id": "ed60c3e5",
      "metadata": {
        "id": "ed60c3e5"
      },
      "source": [
        "Посмотрим на предсказанные вероятности и выведем позицию максимального значения:"
      ]
    },
    {
      "cell_type": "code",
      "execution_count": 108,
      "id": "9d96b210",
      "metadata": {
        "id": "9d96b210",
        "outputId": "21942c42-bf67-48ed-87d3-e6dbcd0cc7e3"
      },
      "outputs": [
        {
          "name": "stdout",
          "output_type": "stream",
          "text": [
            "Prediction(1 sample):\n",
            " tensor([ -9.6253,  -5.5377,  -8.3206,   2.9719, -11.1421,  15.5798,  -0.7591,\n",
            "         -7.8744,   1.6017,  -0.8808], device='cuda:0')\n",
            "Predicted class:  5\n"
          ]
        }
      ],
      "source": [
        "import numpy as np\n",
        "\n",
        "pred = pred[:10].detach()\n",
        "print(\"Prediction(1 sample):\\n\", pred[0])\n",
        "digits = np.argmax(pred.cpu().numpy(), axis=1)\n",
        "print(\"Predicted class: \", digits[0])"
      ]
    },
    {
      "cell_type": "markdown",
      "id": "657336bb",
      "metadata": {
        "id": "657336bb"
      },
      "source": [
        "Визуализируем изображения, подпишем предсказанное и истинное значение:"
      ]
    },
    {
      "cell_type": "code",
      "execution_count": 109,
      "id": "8544161e",
      "metadata": {
        "id": "8544161e",
        "outputId": "4f3df193-9d76-4606-cce1-dd3582034982"
      },
      "outputs": [
        {
          "data": {
            "image/png": "[encoded data removed]",
            "text/plain": [
              "<Figure size 2500x2500 with 10 Axes>"
            ]
          },
          "metadata": {},
          "output_type": "display_data"
        }
      ],
      "source": [
        "plt.figure(figsize=(25.0, 25.0))\n",
        "for i in range(10):\n",
        "    img = imgs[i]\n",
        "\n",
        "    plt.subplot(1, 10, i + 1)\n",
        "    plt.title(\n",
        "        \"pred: \" + str(digits[i]) + \" real: \" + str(labels[i].numpy())\n",
        "    )  # predicted and real values\n",
        "    plt.axis(\"off\")\n",
        "    plt.imshow(img.numpy(), cmap=\"gray\")"
      ]
    },
    {
      "cell_type": "markdown",
      "id": "c441fe9a",
      "metadata": {
        "id": "c441fe9a"
      },
      "source": [
        "## Сохранение и загрузка весов модели\n",
        "\n",
        "Обычно обучение модели является достаточно затратным процессом с точки зрения вычислительных ресурсов. Поэтому, однажды обучив сеть, разумно будет сохранить ее для последующего использования. Рассмотрим варианты, как это можно сделать в PyTorch.\n",
        "\n",
        "Модели PyTorch хранят обучаемые параметры во внутреннем словаре состояния, который называется `state_dict`. Их можно сохранить с помощью метода `torch.save`.\n"
      ]
    },
    {
      "cell_type": "code",
      "execution_count": 110,
      "id": "ed416697",
      "metadata": {
        "id": "ed416697"
      },
      "outputs": [],
      "source": [
        "torch.save(model.state_dict(), \"model_weights.pth\")"
      ]
    },
    {
      "cell_type": "markdown",
      "id": "0f3048e7",
      "metadata": {
        "id": "0f3048e7"
      },
      "source": [
        "Для того, чтобы загрузить веса модели, сперва необходимо создать экземпляр такой модели, а затем загрузить параметры с помощью метода `load_state_dict()`."
      ]
    },
    {
      "cell_type": "code",
      "execution_count": 120,
      "id": "87c7b4c0",
      "metadata": {
        "id": "87c7b4c0",
        "outputId": "64fc892c-63db-4786-e28f-196b1ca61580"
      },
      "outputs": [
        {
          "name": "stdout",
          "output_type": "stream",
          "text": [
            "NeuralNetwork(\n",
            "  (flatten): Flatten(start_dim=1, end_dim=-1)\n",
            "  (layers_stack): Sequential(\n",
            "    (0): Linear(in_features=784, out_features=512, bias=True)\n",
            "    (1): ReLU()\n",
            "    (2): Linear(in_features=512, out_features=128, bias=True)\n",
            "    (3): ReLU()\n",
            "    (4): Linear(in_features=128, out_features=10, bias=True)\n",
            "  )\n",
            ")\n"
          ]
        },
        {
          "name": "stderr",
          "output_type": "stream",
          "text": [
            "/tmp/ipykernel_5297/3218586909.py:2: FutureWarning: You are using `torch.load` with `weights_only=False` (the current default value), which uses the default pickle module implicitly. It is possible to construct malicious pickle data which will execute arbitrary code during unpickling (See https://github.com/pytorch/pytorch/blob/main/SECURITY.md#untrusted-models for more details). In a future release, the default value for `weights_only` will be flipped to `True`. This limits the functions that could be executed during unpickling. Arbitrary objects will no longer be allowed to be loaded via this mode unless they are explicitly allowlisted by the user via `torch.serialization.add_safe_globals`. We recommend you start setting `weights_only=True` for any use case where you don't have full control of the loaded file. Please open an issue on GitHub for any issues related to this experimental feature.\n",
            "  model.load_state_dict(torch.load(\"model_weights.pth\"))\n"
          ]
        }
      ],
      "source": [
        "model = NeuralNetwork().to(device)\n",
        "model.load_state_dict(torch.load(\"model_weights.pth\"))\n",
        "print(model)"
      ]
    },
    {
      "cell_type": "code",
      "execution_count": 121,
      "id": "dacb93e6",
      "metadata": {
        "id": "dacb93e6"
      },
      "outputs": [],
      "source": [
        "imgs, labels = next(iter(test_dataloader))\n",
        "pred = model(torch.reshape(imgs, (64, 28, 28)).to(device))"
      ]
    },
    {
      "cell_type": "code",
      "execution_count": 122,
      "id": "6577fd8d",
      "metadata": {
        "id": "6577fd8d",
        "outputId": "28207569-000d-4be1-d604-f9a31bb7ff65"
      },
      "outputs": [
        {
          "name": "stdout",
          "output_type": "stream",
          "text": [
            "Prediction(1 sample):\n",
            " tensor([[-1.6113e+00, -4.1537e+00, -2.1621e+00, -3.5767e+00, -1.4093e-01,\n",
            "         -1.6135e+00,  1.0701e+01, -5.5471e+00,  1.4127e-01, -6.1048e+00],\n",
            "        [-7.4367e+00, -3.6489e+00, -2.0081e+00,  1.2351e+01, -1.3692e+01,\n",
            "         -1.1963e+00, -9.3493e+00, -3.0014e+00,  2.2353e+00, -2.7244e+00],\n",
            "        [-3.9729e+00, -2.9093e+00, -9.2800e-01, -1.9272e+00, -4.7307e-01,\n",
            "         -3.5115e+00, -8.2202e+00,  1.1314e+01, -5.1123e+00,  2.2927e+00],\n",
            "        [-5.5014e+00, -5.0617e-02,  1.6994e-01,  2.3344e+00, -6.1781e+00,\n",
            "         -5.6284e+00, -1.1961e+01,  1.1458e+01, -4.4272e+00,  4.7014e-01],\n",
            "        [-2.5834e+00, -9.3419e+00,  2.4523e-01, -2.5409e-01,  1.9365e+00,\n",
            "          7.4494e-01, -7.8087e+00, -2.2291e+00, -3.9152e+00,  8.0649e+00],\n",
            "        [-4.4576e-01, -1.9470e-01, -2.8824e-01, -2.0063e+00, -4.5476e+00,\n",
            "         -1.0633e+00,  4.1161e+00, -4.3346e+00,  2.4286e+00, -6.3998e+00],\n",
            "        [-3.6990e+00,  5.9409e+00, -2.2665e+00, -2.0667e+00, -5.2415e-01,\n",
            "         -4.4520e+00, -3.8003e+00,  1.9105e+00, -7.3780e-01, -9.6874e-01],\n",
            "        [-4.7616e+00,  8.0206e+00, -1.6734e-02, -3.0266e+00, -9.9341e-01,\n",
            "         -5.4862e+00, -3.1257e+00,  7.2500e-02, -5.4463e-01, -4.0842e+00],\n",
            "        [-9.5014e+00, -6.7810e+00, -9.0592e+00,  2.0537e+00, -7.0181e+00,\n",
            "          1.3125e+01, -1.5644e+00, -7.5612e+00,  1.1277e+00,  1.3496e+00],\n",
            "        [ 7.0249e+00, -3.8387e+00, -4.9369e-01, -1.9451e+00, -3.1142e+00,\n",
            "         -2.1575e+00,  1.2444e+00, -1.0110e+00, -3.5238e+00, -1.2628e+00],\n",
            "        [-4.4129e+00, -2.5603e+00, -4.5390e+00,  3.3324e+00, -4.4276e+00,\n",
            "          5.6613e+00, -5.5591e+00, -1.4473e+00, -1.0752e-01,  3.9080e-01],\n",
            "        [-5.7798e+00,  3.5410e-01,  1.3272e+01,  2.0043e+00, -8.0862e+00,\n",
            "         -5.6068e+00, -4.9514e+00,  7.8201e-01, -1.9331e+00, -1.2517e+01],\n",
            "        [-2.3884e+00,  6.4217e+00,  2.1530e+00, -3.4619e+00, -3.3719e+00,\n",
            "         -2.9724e+00,  4.1067e-01, -2.3597e+00, -1.7361e+00, -7.4976e+00],\n",
            "        [-3.5071e+00, -3.6930e+00, -1.5041e+00, -2.9568e+00, -4.8288e+00,\n",
            "         -8.3135e-01,  1.0180e+00, -5.5595e+00,  9.4416e+00, -3.7324e+00],\n",
            "        [-3.3280e+00,  3.4305e+00,  1.1825e+01,  2.1581e+00, -1.0108e+01,\n",
            "         -7.5101e+00, -7.6043e+00, -3.6614e-01, -2.0017e+00, -9.1505e+00],\n",
            "        [ 8.9258e+00, -3.4216e+00,  8.9358e-01, -2.6191e+00, -5.1234e+00,\n",
            "         -1.8450e+00, -7.9665e-01, -2.3318e+00, -4.8689e+00, -8.8680e-01],\n",
            "        [-6.5156e+00, -4.3645e-01,  2.0718e+00,  3.9626e+00, -7.8014e+00,\n",
            "         -8.1028e+00, -1.1467e+01,  1.1159e+01, -2.3984e+00, -1.7407e+00],\n",
            "        [-3.8975e+00,  9.1054e+00, -5.5976e-01, -4.2061e+00, -3.3199e-01,\n",
            "         -3.6970e+00, -2.8447e+00, -4.8401e-01, -2.3644e+00, -5.8807e+00],\n",
            "        [-1.6705e+00, -5.3452e+00, -3.2636e+00, -6.4792e+00, -1.8697e+00,\n",
            "         -3.5287e+00, -4.5195e+00, -7.1784e+00,  1.2009e+01, -2.7623e-03],\n",
            "        [-7.2021e+00, -2.5306e+00, -5.9969e+00,  1.1381e+01, -7.2206e+00,\n",
            "          8.9004e-01, -8.2063e+00, -3.7123e+00, -8.6082e-01,  1.4589e-01],\n",
            "        [-6.1547e+00,  4.9917e+00,  1.1056e+01,  2.3402e+00, -7.7444e+00,\n",
            "         -4.5692e+00, -6.5220e+00,  3.3842e+00, -5.6070e+00, -1.1369e+01],\n",
            "        [ 1.6947e+00, -7.7714e-01, -1.2987e+00,  4.5764e-01, -5.9911e-01,\n",
            "         -1.0916e-01,  1.9591e+00, -2.1163e+00, -4.2900e+00, -5.7069e+00],\n",
            "        [-3.5032e+00, -5.9018e+00, -5.9508e-02, -3.1771e+00,  3.2702e+00,\n",
            "         -7.0360e-01,  5.1483e-01, -5.8731e+00,  4.3735e+00, -4.5094e+00],\n",
            "        [-6.4239e+00,  3.8007e+00,  1.2452e+01,  3.7111e+00, -7.7779e+00,\n",
            "         -4.2554e+00, -5.4256e+00,  1.1207e+00, -4.7097e+00, -1.3874e+01],\n",
            "        [-5.5269e+00,  8.4992e+00, -6.2690e-01, -2.6225e+00, -1.4919e+00,\n",
            "         -6.5641e+00, -3.9575e+00,  8.6937e-01, -6.1010e-01, -3.2780e+00],\n",
            "        [-1.5523e+00, -4.7824e+00, -2.0648e+00, -5.6611e+00,  1.5261e+00,\n",
            "         -5.0215e-01,  1.0499e+01, -3.5197e+00, -2.2660e+00, -5.7633e+00],\n",
            "        [-2.3346e+00, -9.1879e-01, -2.7102e+00, -4.3997e+00,  2.8035e+00,\n",
            "         -1.7203e+00, -6.3592e+00,  3.6990e+00, -3.3125e+00,  4.0291e+00],\n",
            "        [-4.9529e+00,  4.0303e+00,  1.0740e+01,  2.7907e+00, -1.1922e+01,\n",
            "         -3.9291e+00, -5.8978e+00,  1.4969e+00, -2.5750e+00, -1.0991e+01],\n",
            "        [-4.3049e+00,  7.9708e+00, -2.2528e+00, -2.7385e+00,  5.5584e-01,\n",
            "         -5.4124e+00, -4.9600e+00,  2.1424e+00, -2.1321e+00, -2.1811e+00],\n",
            "        [-6.2161e+00, -7.3109e+00, -8.0525e+00,  7.9554e-01, -4.2816e+00,\n",
            "          1.1887e+01, -3.8107e+00, -4.3695e+00, -2.4143e-01,  2.9415e+00],\n",
            "        [-3.6010e+00,  4.3111e+00,  1.0728e+01,  2.5993e+00, -1.0775e+01,\n",
            "         -5.7527e+00, -7.5234e+00,  3.5461e-01, -2.3033e+00, -9.3270e+00],\n",
            "        [-6.2342e+00, -3.9374e+00, -4.6032e+00, -1.2744e+00, -6.1991e-02,\n",
            "         -2.2118e+00, -4.9264e+00, -2.3601e+00,  7.1047e+00,  1.8548e+00],\n",
            "        [-4.7275e+00, -4.6509e+00, -4.9069e+00, -9.3018e-01, -5.5935e+00,\n",
            "          9.6994e+00, -9.7208e-01, -3.4788e+00,  3.6639e+00, -4.1811e+00],\n",
            "        [-6.7390e+00, -1.3858e+00, -2.7880e+00,  9.4250e+00, -4.3320e+00,\n",
            "         -6.9944e-01, -8.6813e+00,  5.5779e-01, -1.7403e+00, -3.0345e+00],\n",
            "        [-2.2638e+00, -1.5629e+00, -5.9965e-01, -5.3392e+00, -2.7498e+00,\n",
            "          7.1298e-01,  6.8578e+00, -1.9272e+00, -1.7609e+00, -1.7638e+00],\n",
            "        [-4.6375e+00, -2.4401e-01,  3.9365e+00,  2.8747e+00, -7.7261e+00,\n",
            "         -5.2823e+00, -9.1407e+00,  7.9020e+00, -1.6482e+00, -3.3411e+00],\n",
            "        [-5.5407e+00, -4.4739e+00, -5.9677e+00,  4.0516e-01,  3.3050e+00,\n",
            "         -2.4918e+00, -8.9265e+00, -5.3042e-01, -2.1369e+00,  9.2487e+00],\n",
            "        [-1.0893e-01, -1.0038e+00,  3.2951e+00,  3.6363e+00, -6.9063e+00,\n",
            "         -1.5129e+00, -2.6703e+00, -2.3452e+00,  1.2359e+00, -6.1332e+00],\n",
            "        [-2.7455e+00, -3.3381e+00, -3.4270e+00,  9.5351e-01, -3.8710e+00,\n",
            "         -1.9915e+00, -5.1522e+00, -8.5539e+00,  7.5648e+00,  9.6122e-01],\n",
            "        [-7.5357e+00, -2.0615e+00, -3.4619e+00, -5.2216e+00,  1.2727e+01,\n",
            "         -5.5438e+00, -6.6435e+00, -6.1658e-01,  6.5649e-01, -8.1352e-01],\n",
            "        [-3.9476e+00,  9.9954e-01,  1.1048e+01, -5.0828e-01, -4.0975e+00,\n",
            "         -5.2262e+00, -3.7193e+00, -5.5566e-01, -2.9809e+00, -8.0564e+00],\n",
            "        [-3.5149e-01, -4.9205e+00, -3.6876e+00, -2.7501e+00, -1.7573e+00,\n",
            "          2.2323e+00,  9.6493e+00, -4.0853e+00, -1.1974e+00, -7.4114e+00],\n",
            "        [-2.3874e+00,  6.2013e+00, -3.4796e-01, -3.2662e+00, -7.5461e-01,\n",
            "         -2.4732e+00, -2.1542e+00,  4.8562e-02, -1.6474e+00, -3.5435e+00],\n",
            "        [-3.1114e+00, -2.6281e+00,  2.3635e+00,  8.7994e+00, -1.5348e+01,\n",
            "         -6.8393e-01, -1.0854e+01, -4.9963e-02, -4.8076e+00, -1.9725e+00],\n",
            "        [-4.8091e+00,  1.2219e+00, -2.4905e+00,  6.9906e+00, -4.2676e+00,\n",
            "          2.4150e+00, -5.9772e+00, -2.7103e+00, -4.1527e+00, -7.9719e-01],\n",
            "        [-6.3606e+00, -5.6270e-01, -6.4153e+00, -3.5563e+00,  1.2423e+01,\n",
            "         -3.8005e+00, -4.0363e+00, -1.1688e+00, -2.9023e+00, -9.2794e-03],\n",
            "        [ 5.9433e+00, -3.1756e+00, -1.3302e+00, -1.3634e+00, -4.4018e+00,\n",
            "          2.8224e-01,  5.7743e-01, -1.2206e+00, -5.0777e+00, -9.9156e-01],\n",
            "        [-6.8364e+00, -5.7931e+00, -6.6027e+00,  2.3072e+00,  1.5355e+00,\n",
            "         -3.8804e+00, -1.1510e+01,  1.7138e-01, -8.3603e-01,  1.0478e+01],\n",
            "        [-5.6585e+00,  2.5208e+00,  1.1470e+01,  7.6729e-01, -7.2525e+00,\n",
            "         -4.8774e+00, -6.6925e+00,  9.1457e-01, -2.8325e+00, -8.0831e+00],\n",
            "        [-7.9291e+00, -6.1232e+00, -8.3281e+00,  7.5837e+00, -7.4437e+00,\n",
            "          1.0596e+01, -7.8406e+00, -5.7120e+00, -1.6299e+00,  3.0437e+00],\n",
            "        [-3.1466e+00, -6.2164e+00, -4.5694e+00, -2.8255e+00, -8.8719e-01,\n",
            "          5.2522e-01, -3.8753e+00, -7.4065e+00,  9.0495e+00, -3.4315e-01],\n",
            "        [-4.6876e+00, -6.0118e+00, -4.9499e+00, -1.3358e+00,  3.2852e+00,\n",
            "         -4.9009e+00, -8.0149e+00, -4.2635e-01, -3.1674e-01,  9.7723e+00],\n",
            "        [-5.6453e+00,  7.5853e+00, -5.9787e-01, -1.4372e+00, -1.4240e+00,\n",
            "         -8.3565e+00, -6.3810e+00,  2.4297e+00, -3.7381e-01, -1.7187e+00],\n",
            "        [-1.3979e+00, -2.4183e+00, -1.9079e+00, -5.9675e+00,  5.9360e-01,\n",
            "         -1.3078e+00,  9.3404e+00, -2.8083e+00, -2.0543e+00, -4.4925e+00],\n",
            "        [-1.7063e+00, -3.2218e+00, -3.4379e+00, -5.5735e+00,  1.0682e+01,\n",
            "         -5.8104e+00, -2.8786e+00, -2.7643e+00, -2.6956e+00,  2.6877e+00],\n",
            "        [-4.2188e+00, -4.3947e+00, -5.7256e+00,  4.8783e-01, -7.2084e+00,\n",
            "          9.5091e+00, -1.8260e-01, -5.8888e+00,  8.6584e-01,  9.7526e-01],\n",
            "        [ 6.5474e+00, -1.8563e+00,  5.4993e-01, -1.7405e+00, -3.6063e+00,\n",
            "         -3.2016e+00, -3.3249e-01,  3.5656e-01, -5.2464e+00, -8.2501e-01],\n",
            "        [-5.3805e+00, -3.3593e-01,  2.8795e-01,  2.4919e+00, -6.5084e+00,\n",
            "         -8.8642e+00, -1.2370e+01,  8.3509e+00, -2.7399e+00,  2.5378e+00],\n",
            "        [-3.1731e+00, -6.6183e+00, -3.2357e+00,  6.0660e-02,  3.7369e-01,\n",
            "          8.1619e-01, -8.5186e+00,  9.7439e-01, -3.4758e+00,  7.9144e+00],\n",
            "        [-6.2638e+00, -1.6138e+00,  1.6652e+00,  3.4183e+00, -8.1696e+00,\n",
            "         -6.6698e+00, -1.1941e+01,  1.2395e+01, -3.3021e+00, -9.7068e-01],\n",
            "        [-2.4834e+00,  1.9169e-01, -2.1742e+00, -6.1259e-01, -4.3734e+00,\n",
            "         -4.7642e+00, -3.4569e+00, -3.0151e+00,  6.6427e+00, -2.2307e+00],\n",
            "        [ 1.7387e+00, -3.3008e+00, -4.4059e-01, -3.0082e+00,  2.9856e+00,\n",
            "         -1.4975e+00, -5.7586e-01, -2.0309e+00, -1.9252e+00, -1.8711e+00],\n",
            "        [-5.5231e-01, -4.3310e+00, -1.1357e+00, -9.6060e-01, -6.2817e-01,\n",
            "         -3.6535e+00, -1.8226e+00, -4.9217e+00,  7.2051e+00, -3.2438e+00],\n",
            "        [-2.4342e+00, -3.6718e+00, -2.4756e+00, -6.8947e+00,  9.4655e-01,\n",
            "          4.9567e-02,  1.1736e+01, -4.2859e+00, -3.3019e+00, -6.1754e+00]],\n",
            "       device='cuda:0')\n",
            "[6 3 7 7 9 6 1 1 5 0 5 2 1 8 2 0 7 1 8 3 2 6 8 2 1 6 9 2 1 5 2 8 5 3 6 7 9\n",
            " 3 8 4 2 6 1 3 3 4 0 9 2 5 8 9 1 6 4 5 0 7 9 7 8 4 8 6]\n"
          ]
        }
      ],
      "source": [
        "pred = pred.detach()\n",
        "print(\"Prediction(1 sample):\\n\", pred)\n",
        "digits = np.argmax(pred.cpu().numpy(), axis=1)\n",
        "print(digits)"
      ]
    }
  ],
  "metadata": {
    "colab": {
      "provenance": []
    },
    "kernelspec": {
      "display_name": "deep_ml",
      "language": "python",
      "name": "python3"
    },
    "language_info": {
      "codemirror_mode": {
        "name": "ipython",
        "version": 3
      },
      "file_extension": ".py",
      "mimetype": "text/x-python",
      "name": "python",
      "nbconvert_exporter": "python",
      "pygments_lexer": "ipython3",
      "version": "3.12.5"
    }
  },
  "nbformat": 4,
  "nbformat_minor": 5
}
